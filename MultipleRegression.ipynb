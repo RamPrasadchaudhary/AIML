{
 "cells": [
  {
   "cell_type": "code",
   "execution_count": 2,
   "metadata": {},
   "outputs": [
    {
     "name": "stdout",
     "output_type": "stream",
     "text": [
      "First 5 rows of dataset:\n",
      "    hours  age  internet  marks\n",
      "0   6.84   15         0  78.64\n",
      "1   6.56   20         1  88.80\n",
      "2    NaN   21         1  88.90\n",
      "3   8.67   22         1  98.99\n",
      "4   7.55   17         1  92.34\n",
      "\n",
      "Missing values in each column:\n",
      " hours       12\n",
      "age          0\n",
      "internet     0\n",
      "marks        0\n",
      "dtype: int64\n",
      "\n",
      "Model Performance:\n",
      "Mean Absolute Error: 15.093878830955454\n",
      "Mean Squared Error: 296.9278739472545\n",
      "R² Score: 0.04539029325368027\n",
      "\n",
      "Predicted Marks for New Data: 74.11327579029636\n"
     ]
    },
    {
     "name": "stderr",
     "output_type": "stream",
     "text": [
      "c:\\Users\\91932\\AppData\\Local\\Programs\\Python\\Python313\\Lib\\site-packages\\sklearn\\utils\\validation.py:2739: UserWarning: X does not have valid feature names, but LinearRegression was fitted with feature names\n",
      "  warnings.warn(\n"
     ]
    }
   ],
   "source": [
    "import pandas as pd\n",
    "import numpy as np\n",
    "from sklearn.model_selection import train_test_split\n",
    "from sklearn.linear_model import LinearRegression\n",
    "from sklearn.metrics import mean_absolute_error, mean_squared_error, r2_score\n",
    "\n",
    "# Step 1: Load Dataset\n",
    "df = pd.read_csv(\"std_marks_data.csv\")\n",
    "\n",
    "# Step 2: Explore Data\n",
    "print(\"First 5 rows of dataset:\\n\", df.head())\n",
    "print(\"\\nMissing values in each column:\\n\", df.isnull().sum())\n",
    "\n",
    "# Step 3: Handle Missing Values (Replace NaN with Column Mean)\n",
    "df.fillna(df.mean(numeric_only=True), inplace=True)\n",
    "\n",
    "# Step 4: Encode Categorical Variables (if 'internet' is categorical)\n",
    "if df[\"internet\"].dtype == \"object\":\n",
    "    df[\"internet\"] = df[\"internet\"].map({\"yes\": 1, \"no\": 0})\n",
    "\n",
    "# Step 5: Segregate Input (X) and Output (y)\n",
    "X = df[[\"hours\", \"age\", \"internet\"]]  # Independent variables\n",
    "y = df[\"marks\"]  # Dependent variable\n",
    "\n",
    "# Step 6: Split Data (80% Train, 20% Test)\n",
    "X_train, X_test, y_train, y_test = train_test_split(X, y, test_size=0.2, random_state=42)\n",
    "\n",
    "# Step 7: Train Model\n",
    "model = LinearRegression()\n",
    "model.fit(X_train, y_train)\n",
    "\n",
    "# Step 8: Evaluate Model\n",
    "y_pred = model.predict(X_test)\n",
    "\n",
    "print(\"\\nModel Performance:\")\n",
    "print(\"Mean Absolute Error:\", mean_absolute_error(y_test, y_pred))\n",
    "print(\"Mean Squared Error:\", mean_squared_error(y_test, y_pred))\n",
    "print(\"R² Score:\", r2_score(y_test, y_pred))\n",
    "\n",
    "# Step 9: Test with New Input Data\n",
    "new_data = np.array([[5, 18, 1]])  # Example: 5 hours, 18 years old, internet available (1)\n",
    "predicted_marks = model.predict(new_data)\n",
    "\n",
    "print(\"\\nPredicted Marks for New Data:\", predicted_marks[0])\n"
   ]
  },
  {
   "cell_type": "code",
   "execution_count": 1,
   "metadata": {},
   "outputs": [],
   "source": [
    "import pandas as pd\n",
    "from sklearn.linear_model import LinearRegression"
   ]
  },
  {
   "cell_type": "code",
   "execution_count": 2,
   "metadata": {},
   "outputs": [
    {
     "name": "stdout",
     "output_type": "stream",
     "text": [
      "First 5 rows:\n",
      "   hours  age  internet  marks\n",
      "0   6.84   15         0  78.64\n",
      "1   6.56   20         1  88.80\n",
      "2    NaN   21         1  88.90\n",
      "3   8.67   22         1  98.99\n",
      "4   7.55   17         1  92.34\n",
      "\n",
      "Dataset info:\n",
      "<class 'pandas.core.frame.DataFrame'>\n",
      "RangeIndex: 300 entries, 0 to 299\n",
      "Data columns (total 4 columns):\n",
      " #   Column    Non-Null Count  Dtype  \n",
      "---  ------    --------------  -----  \n",
      " 0   hours     288 non-null    float64\n",
      " 1   age       300 non-null    int64  \n",
      " 2   internet  300 non-null    int64  \n",
      " 3   marks     300 non-null    float64\n",
      "dtypes: float64(2), int64(2)\n",
      "memory usage: 9.5 KB\n",
      "None\n"
     ]
    }
   ],
   "source": [
    "# Load dataset\n",
    "df = pd.read_csv('std_marks_data.csv')\n",
    "\n",
    "# Display first 5 rows and basic info\n",
    "print(\"First 5 rows:\")\n",
    "print(df.head())\n",
    "print(\"\\nDataset info:\")\n",
    "print(df.info())"
   ]
  },
  {
   "cell_type": "code",
   "execution_count": 10,
   "metadata": {},
   "outputs": [
    {
     "data": {
      "text/html": [
       "<div>\n",
       "<style scoped>\n",
       "    .dataframe tbody tr th:only-of-type {\n",
       "        vertical-align: middle;\n",
       "    }\n",
       "\n",
       "    .dataframe tbody tr th {\n",
       "        vertical-align: top;\n",
       "    }\n",
       "\n",
       "    .dataframe thead th {\n",
       "        text-align: right;\n",
       "    }\n",
       "</style>\n",
       "<table border=\"1\" class=\"dataframe\">\n",
       "  <thead>\n",
       "    <tr style=\"text-align: right;\">\n",
       "      <th></th>\n",
       "      <th>hours</th>\n",
       "      <th>age</th>\n",
       "      <th>internet</th>\n",
       "      <th>marks</th>\n",
       "    </tr>\n",
       "  </thead>\n",
       "  <tbody>\n",
       "    <tr>\n",
       "      <th>0</th>\n",
       "      <td>False</td>\n",
       "      <td>False</td>\n",
       "      <td>False</td>\n",
       "      <td>False</td>\n",
       "    </tr>\n",
       "    <tr>\n",
       "      <th>1</th>\n",
       "      <td>False</td>\n",
       "      <td>False</td>\n",
       "      <td>False</td>\n",
       "      <td>False</td>\n",
       "    </tr>\n",
       "    <tr>\n",
       "      <th>2</th>\n",
       "      <td>False</td>\n",
       "      <td>False</td>\n",
       "      <td>False</td>\n",
       "      <td>False</td>\n",
       "    </tr>\n",
       "    <tr>\n",
       "      <th>3</th>\n",
       "      <td>False</td>\n",
       "      <td>False</td>\n",
       "      <td>False</td>\n",
       "      <td>False</td>\n",
       "    </tr>\n",
       "    <tr>\n",
       "      <th>4</th>\n",
       "      <td>False</td>\n",
       "      <td>False</td>\n",
       "      <td>False</td>\n",
       "      <td>False</td>\n",
       "    </tr>\n",
       "    <tr>\n",
       "      <th>...</th>\n",
       "      <td>...</td>\n",
       "      <td>...</td>\n",
       "      <td>...</td>\n",
       "      <td>...</td>\n",
       "    </tr>\n",
       "    <tr>\n",
       "      <th>295</th>\n",
       "      <td>False</td>\n",
       "      <td>False</td>\n",
       "      <td>False</td>\n",
       "      <td>False</td>\n",
       "    </tr>\n",
       "    <tr>\n",
       "      <th>296</th>\n",
       "      <td>False</td>\n",
       "      <td>False</td>\n",
       "      <td>False</td>\n",
       "      <td>False</td>\n",
       "    </tr>\n",
       "    <tr>\n",
       "      <th>297</th>\n",
       "      <td>False</td>\n",
       "      <td>False</td>\n",
       "      <td>False</td>\n",
       "      <td>False</td>\n",
       "    </tr>\n",
       "    <tr>\n",
       "      <th>298</th>\n",
       "      <td>False</td>\n",
       "      <td>False</td>\n",
       "      <td>False</td>\n",
       "      <td>False</td>\n",
       "    </tr>\n",
       "    <tr>\n",
       "      <th>299</th>\n",
       "      <td>False</td>\n",
       "      <td>False</td>\n",
       "      <td>False</td>\n",
       "      <td>False</td>\n",
       "    </tr>\n",
       "  </tbody>\n",
       "</table>\n",
       "<p>300 rows × 4 columns</p>\n",
       "</div>"
      ],
      "text/plain": [
       "     hours    age  internet  marks\n",
       "0    False  False     False  False\n",
       "1    False  False     False  False\n",
       "2    False  False     False  False\n",
       "3    False  False     False  False\n",
       "4    False  False     False  False\n",
       "..     ...    ...       ...    ...\n",
       "295  False  False     False  False\n",
       "296  False  False     False  False\n",
       "297  False  False     False  False\n",
       "298  False  False     False  False\n",
       "299  False  False     False  False\n",
       "\n",
       "[300 rows x 4 columns]"
      ]
     },
     "execution_count": 10,
     "metadata": {},
     "output_type": "execute_result"
    }
   ],
   "source": [
    "df.isnull()"
   ]
  },
  {
   "cell_type": "code",
   "execution_count": 12,
   "metadata": {},
   "outputs": [
    {
     "name": "stdout",
     "output_type": "stream",
     "text": [
      "\n",
      "Missing values before preprocessing:\n",
      "hours       0\n",
      "age         0\n",
      "internet    0\n",
      "marks       0\n",
      "dtype: int64\n",
      "\n",
      "Missing values after preprocessing:\n",
      "hours       0\n",
      "age         0\n",
      "internet    0\n",
      "marks       0\n",
      "dtype: int64\n"
     ]
    }
   ],
   "source": [
    "# Check missing values\n",
    "print(\"\\nMissing values before preprocessing:\")\n",
    "print(df.isnull().sum())\n",
    "\n",
    "# Fill NaN with mean (for numeric columns only)\n",
    "numeric_cols = ['hours', 'age', 'marks']\n",
    "df[numeric_cols] = df[numeric_cols].fillna(df[numeric_cols].mean())\n",
    "\n",
    "# For 'internet' (binary: 0/1), fill with mode (most frequent value)\n",
    "df['internet'] = df['internet'].fillna(df['internet'].mode()[0])\n",
    "\n",
    "# Verify no missing values remain\n",
    "print(\"\\nMissing values after preprocessing:\")\n",
    "print(df.isnull().sum())"
   ]
  },
  {
   "cell_type": "code",
   "execution_count": 14,
   "metadata": {},
   "outputs": [],
   "source": [
    "# Input features (X) and target (y)\n",
    "X = df[['hours', 'age', 'internet']]  # Predictors\n",
    "y = df['marks']                        # Target variable"
   ]
  },
  {
   "cell_type": "code",
   "execution_count": 15,
   "metadata": {},
   "outputs": [
    {
     "name": "stdout",
     "output_type": "stream",
     "text": [
      "\n",
      "Model Parameters:\n",
      "Coefficients (hours, age, internet): [1.25998261 0.32935904 3.11097722]\n",
      "Intercept: 57.95\n"
     ]
    }
   ],
   "source": [
    "# Initialize and train the model\n",
    "model = LinearRegression()\n",
    "model.fit(X, y)\n",
    "\n",
    "# Get coefficients and intercept\n",
    "coefficients = model.coef_\n",
    "intercept = model.intercept_\n",
    "\n",
    "print(\"\\nModel Parameters:\")\n",
    "print(f\"Coefficients (hours, age, internet): {coefficients}\")\n",
    "print(f\"Intercept: {intercept:.2f}\")"
   ]
  },
  {
   "cell_type": "code",
   "execution_count": 13,
   "metadata": {},
   "outputs": [
    {
     "name": "stdout",
     "output_type": "stream",
     "text": [
      "\n",
      "Coefficient of Determination (R²): 0.0455\n"
     ]
    }
   ],
   "source": [
    "# Calculate R² score (accuracy)\n",
    "r_squared = model.score(X, y)\n",
    "print(f\"\\nCoefficient of Determination (R²): {r_squared:.4f}\")"
   ]
  },
  {
   "cell_type": "code",
   "execution_count": 20,
   "metadata": {},
   "outputs": [
    {
     "name": "stdout",
     "output_type": "stream",
     "text": [
      "\n",
      "Predictions for New Data:\n",
      "   hours  age  internet  predicted_marks\n",
      "0      3   17         1            70.44\n",
      "1      5   20         0            70.83\n",
      "2      4   19         1            72.35\n"
     ]
    }
   ],
   "source": [
    "# Create new input data for prediction\n",
    "new_data = pd.DataFrame({\n",
    "    'hours': [3, 5, 4],    # Hours studied\n",
    "    'age': [17, 20, 19],   # Student age\n",
    "    'internet': [1, 0, 1]  # Internet access (1=yes, 0=no)\n",
    "})\n",
    "\n",
    "# Predict marks\n",
    "predicted_marks = model.predict(new_data)\n",
    "new_data['predicted_marks'] = predicted_marks.round(2)\n",
    "\n",
    "print(\"\\nPredictions for New Data:\")\n",
    "print(new_data)"
   ]
  },
  {
   "cell_type": "code",
   "execution_count": 22,
   "metadata": {},
   "outputs": [],
   "source": [
    "\n",
    "# Segregate Input (X) and Output (y)\n",
    "X = df[[\"hours\", \"age\", \"internet\"]]\n",
    "y = df[\"marks\"]\n",
    "\n",
    "# Split Data (80% Train, 20% Test)\n",
    "X_train, X_test, y_train, y_test = train_test_split(X, y, test_size=0.2, random_state=42)\n",
    "\n",
    "# Train Model\n",
    "model = LinearRegression()\n",
    "model.fit(X_train, y_train)\n",
    "\n",
    "# Predict on Test Data\n",
    "y_pred = model.predict(X_test)"
   ]
  },
  {
   "cell_type": "code",
   "execution_count": 31,
   "metadata": {},
   "outputs": [
    {
     "name": "stdout",
     "output_type": "stream",
     "text": [
      "Accuracy of training data 0.03426128260168593\n",
      "Accuracy of testing data 0.04539029325368027\n"
     ]
    }
   ],
   "source": [
    "print(\"Accuracy of training data\",model.score(X_train ,y_train))\n",
    "print(\"Accuracy of testing data\",model.score(X_test ,y_test))"
   ]
  },
  {
   "cell_type": "code",
   "execution_count": 24,
   "metadata": {},
   "outputs": [
    {
     "name": "stdout",
     "output_type": "stream",
     "text": [
      "     hours  age  internet\n",
      "232   6.56   22         0\n",
      "59    8.76   16         1\n",
      "6     8.76   24         0\n",
      "185   4.80   18         0\n",
      "173   7.44   24         1\n",
      "..     ...  ...       ...\n",
      "188   9.33   15         0\n",
      "71    5.67   17         1\n",
      "106   8.80   15         1\n",
      "270   2.99   21         0\n",
      "102   6.56   16         1\n",
      "\n",
      "[240 rows x 3 columns]\n"
     ]
    }
   ],
   "source": [
    "print(X_train)"
   ]
  },
  {
   "cell_type": "code",
   "execution_count": 26,
   "metadata": {},
   "outputs": [],
   "source": [
    "model = LinearRegression()\n",
    "model.fit(X_train, y_train)\n",
    "\n",
    "# Predict on Test Data\n",
    "y_pred = model.predict(X_test)"
   ]
  }
 ],
 "metadata": {
  "kernelspec": {
   "display_name": "Python 3",
   "language": "python",
   "name": "python3"
  },
  "language_info": {
   "codemirror_mode": {
    "name": "ipython",
    "version": 3
   },
   "file_extension": ".py",
   "mimetype": "text/x-python",
   "name": "python",
   "nbconvert_exporter": "python",
   "pygments_lexer": "ipython3",
   "version": "3.13.0"
  }
 },
 "nbformat": 4,
 "nbformat_minor": 2
}
