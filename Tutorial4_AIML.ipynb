{
 "cells": [
  {
   "cell_type": "code",
   "execution_count": 1,
   "metadata": {
    "executionInfo": {
     "elapsed": 27,
     "status": "ok",
     "timestamp": 1741881108667,
     "user": {
      "displayName": "RAM PRASAD CHAUDHARY",
      "userId": "11879361387894913678"
     },
     "user_tz": -330
    },
    "id": "MaaXkD02iBaY"
   },
   "outputs": [],
   "source": [
    "import numpy as np\n",
    "import pandas as pd\n",
    "import matplotlib.pyplot as plt\n",
    "%matplotlib inline\n",
    "\n"
   ]
  },
  {
   "cell_type": "code",
   "execution_count": null,
   "metadata": {
    "colab": {
     "base_uri": "https://localhost:8080/",
     "height": 304
    },
    "executionInfo": {
     "elapsed": 285,
     "status": "error",
     "timestamp": 1741881099195,
     "user": {
      "displayName": "RAM PRASAD CHAUDHARY",
      "userId": "11879361387894913678"
     },
     "user_tz": -330
    },
    "id": "b-WWVWwikATP",
    "outputId": "eb718723-13ae-4cca-a340-fa8b0a6cf4fa"
   },
   "outputs": [
    {
     "data": {
      "text/html": [
       "<div>\n",
       "<style scoped>\n",
       "    .dataframe tbody tr th:only-of-type {\n",
       "        vertical-align: middle;\n",
       "    }\n",
       "\n",
       "    .dataframe tbody tr th {\n",
       "        vertical-align: top;\n",
       "    }\n",
       "\n",
       "    .dataframe thead th {\n",
       "        text-align: right;\n",
       "    }\n",
       "</style>\n",
       "<table border=\"1\" class=\"dataframe\">\n",
       "  <thead>\n",
       "    <tr style=\"text-align: right;\">\n",
       "      <th></th>\n",
       "      <th>Units</th>\n",
       "      <th>Minutes</th>\n",
       "    </tr>\n",
       "  </thead>\n",
       "  <tbody>\n",
       "    <tr>\n",
       "      <th>0</th>\n",
       "      <td>1</td>\n",
       "      <td>23</td>\n",
       "    </tr>\n",
       "    <tr>\n",
       "      <th>1</th>\n",
       "      <td>2</td>\n",
       "      <td>29</td>\n",
       "    </tr>\n",
       "    <tr>\n",
       "      <th>2</th>\n",
       "      <td>3</td>\n",
       "      <td>49</td>\n",
       "    </tr>\n",
       "    <tr>\n",
       "      <th>3</th>\n",
       "      <td>4</td>\n",
       "      <td>64</td>\n",
       "    </tr>\n",
       "    <tr>\n",
       "      <th>4</th>\n",
       "      <td>4</td>\n",
       "      <td>74</td>\n",
       "    </tr>\n",
       "    <tr>\n",
       "      <th>5</th>\n",
       "      <td>5</td>\n",
       "      <td>87</td>\n",
       "    </tr>\n",
       "    <tr>\n",
       "      <th>6</th>\n",
       "      <td>6</td>\n",
       "      <td>96</td>\n",
       "    </tr>\n",
       "    <tr>\n",
       "      <th>7</th>\n",
       "      <td>6</td>\n",
       "      <td>97</td>\n",
       "    </tr>\n",
       "    <tr>\n",
       "      <th>8</th>\n",
       "      <td>7</td>\n",
       "      <td>109</td>\n",
       "    </tr>\n",
       "    <tr>\n",
       "      <th>9</th>\n",
       "      <td>8</td>\n",
       "      <td>119</td>\n",
       "    </tr>\n",
       "    <tr>\n",
       "      <th>10</th>\n",
       "      <td>9</td>\n",
       "      <td>149</td>\n",
       "    </tr>\n",
       "    <tr>\n",
       "      <th>11</th>\n",
       "      <td>9</td>\n",
       "      <td>145</td>\n",
       "    </tr>\n",
       "    <tr>\n",
       "      <th>12</th>\n",
       "      <td>10</td>\n",
       "      <td>154</td>\n",
       "    </tr>\n",
       "    <tr>\n",
       "      <th>13</th>\n",
       "      <td>10</td>\n",
       "      <td>166</td>\n",
       "    </tr>\n",
       "  </tbody>\n",
       "</table>\n",
       "</div>"
      ],
      "text/plain": [
       "    Units  Minutes\n",
       "0       1       23\n",
       "1       2       29\n",
       "2       3       49\n",
       "3       4       64\n",
       "4       4       74\n",
       "5       5       87\n",
       "6       6       96\n",
       "7       6       97\n",
       "8       7      109\n",
       "9       8      119\n",
       "10      9      149\n",
       "11      9      145\n",
       "12     10      154\n",
       "13     10      166"
      ]
     },
     "execution_count": 2,
     "metadata": {},
     "output_type": "execute_result"
    }
   ],
   "source": [
    "data=pd.read_csv('computers.csv')\n",
    "data"
   ]
  },
  {
   "cell_type": "code",
   "execution_count": 3,
   "metadata": {
    "colab": {
     "base_uri": "https://localhost:8080/"
    },
    "executionInfo": {
     "elapsed": 441,
     "status": "ok",
     "timestamp": 1737105684190,
     "user": {
      "displayName": "RAM PRASAD CHAUDHARY",
      "userId": "11879361387894913678"
     },
     "user_tz": -330
    },
    "id": "x8gdRgSzkRhG",
    "outputId": "d4df1d3f-c21a-4314-cbd4-50ce6d11daa9"
   },
   "outputs": [
    {
     "name": "stdout",
     "output_type": "stream",
     "text": [
      "<class 'pandas.core.frame.DataFrame'>\n",
      "RangeIndex: 14 entries, 0 to 13\n",
      "Data columns (total 2 columns):\n",
      " #   Column   Non-Null Count  Dtype\n",
      "---  ------   --------------  -----\n",
      " 0   Units    14 non-null     int64\n",
      " 1   Minutes  14 non-null     int64\n",
      "dtypes: int64(2)\n",
      "memory usage: 356.0 bytes\n"
     ]
    }
   ],
   "source": [
    "data.info()"
   ]
  },
  {
   "cell_type": "code",
   "execution_count": 4,
   "metadata": {
    "colab": {
     "base_uri": "https://localhost:8080/",
     "height": 300
    },
    "executionInfo": {
     "elapsed": 466,
     "status": "ok",
     "timestamp": 1737108137844,
     "user": {
      "displayName": "RAM PRASAD CHAUDHARY",
      "userId": "11879361387894913678"
     },
     "user_tz": -330
    },
    "id": "gKwk_mQ5kULJ",
    "outputId": "4aa9cbc4-d2da-432b-bdd5-276c071e3365"
   },
   "outputs": [
    {
     "data": {
      "text/html": [
       "<div>\n",
       "<style scoped>\n",
       "    .dataframe tbody tr th:only-of-type {\n",
       "        vertical-align: middle;\n",
       "    }\n",
       "\n",
       "    .dataframe tbody tr th {\n",
       "        vertical-align: top;\n",
       "    }\n",
       "\n",
       "    .dataframe thead th {\n",
       "        text-align: right;\n",
       "    }\n",
       "</style>\n",
       "<table border=\"1\" class=\"dataframe\">\n",
       "  <thead>\n",
       "    <tr style=\"text-align: right;\">\n",
       "      <th></th>\n",
       "      <th>Units</th>\n",
       "      <th>Minutes</th>\n",
       "    </tr>\n",
       "  </thead>\n",
       "  <tbody>\n",
       "    <tr>\n",
       "      <th>count</th>\n",
       "      <td>14.000000</td>\n",
       "      <td>14.000000</td>\n",
       "    </tr>\n",
       "    <tr>\n",
       "      <th>mean</th>\n",
       "      <td>6.000000</td>\n",
       "      <td>97.214286</td>\n",
       "    </tr>\n",
       "    <tr>\n",
       "      <th>std</th>\n",
       "      <td>2.961289</td>\n",
       "      <td>46.217177</td>\n",
       "    </tr>\n",
       "    <tr>\n",
       "      <th>min</th>\n",
       "      <td>1.000000</td>\n",
       "      <td>23.000000</td>\n",
       "    </tr>\n",
       "    <tr>\n",
       "      <th>25%</th>\n",
       "      <td>4.000000</td>\n",
       "      <td>66.500000</td>\n",
       "    </tr>\n",
       "    <tr>\n",
       "      <th>50%</th>\n",
       "      <td>6.000000</td>\n",
       "      <td>96.500000</td>\n",
       "    </tr>\n",
       "    <tr>\n",
       "      <th>75%</th>\n",
       "      <td>8.750000</td>\n",
       "      <td>138.500000</td>\n",
       "    </tr>\n",
       "    <tr>\n",
       "      <th>max</th>\n",
       "      <td>10.000000</td>\n",
       "      <td>166.000000</td>\n",
       "    </tr>\n",
       "  </tbody>\n",
       "</table>\n",
       "</div>"
      ],
      "text/plain": [
       "           Units     Minutes\n",
       "count  14.000000   14.000000\n",
       "mean    6.000000   97.214286\n",
       "std     2.961289   46.217177\n",
       "min     1.000000   23.000000\n",
       "25%     4.000000   66.500000\n",
       "50%     6.000000   96.500000\n",
       "75%     8.750000  138.500000\n",
       "max    10.000000  166.000000"
      ]
     },
     "execution_count": 4,
     "metadata": {},
     "output_type": "execute_result"
    }
   ],
   "source": [
    "data.describe()"
   ]
  },
  {
   "cell_type": "code",
   "execution_count": 5,
   "metadata": {
    "colab": {
     "base_uri": "https://localhost:8080/"
    },
    "executionInfo": {
     "elapsed": 424,
     "status": "ok",
     "timestamp": 1737108141753,
     "user": {
      "displayName": "RAM PRASAD CHAUDHARY",
      "userId": "11879361387894913678"
     },
     "user_tz": -330
    },
    "id": "8vEgCcpplXU9",
    "outputId": "cb8f971b-b259-472d-fa0d-f5e715ccfbc3"
   },
   "outputs": [
    {
     "data": {
      "text/plain": [
       "np.float64(97.21428571428571)"
      ]
     },
     "execution_count": 5,
     "metadata": {},
     "output_type": "execute_result"
    }
   ],
   "source": [
    "mean_value=data['Minutes'].mean()\n",
    "mean_value"
   ]
  },
  {
   "cell_type": "code",
   "execution_count": 6,
   "metadata": {
    "colab": {
     "base_uri": "https://localhost:8080/",
     "height": 466
    },
    "executionInfo": {
     "elapsed": 509,
     "status": "ok",
     "timestamp": 1737108147171,
     "user": {
      "displayName": "RAM PRASAD CHAUDHARY",
      "userId": "11879361387894913678"
     },
     "user_tz": -330
    },
    "id": "TQVz3du9l-UH",
    "outputId": "cb0d172b-9a7a-4ac1-be32-49b210e6951d"
   },
   "outputs": [
    {
     "data": {
      "text/plain": [
       "Text(0, 0.5, 'minutes')"
      ]
     },
     "execution_count": 6,
     "metadata": {},
     "output_type": "execute_result"
    },
    {
     "data": {
      "image/png": "[encoded data removed]",
      "text/plain": [
       "<Figure size 640x480 with 1 Axes>"
      ]
     },
     "metadata": {},
     "output_type": "display_data"
    }
   ],
   "source": [
    "plt.scatter(data['Units'] ,data['Minutes'] ,color=\"blue\" , marker='o')\n",
    "plt.axhline(y=mean_value ,c='r')\n",
    "plt.xlabel('units')\n",
    "plt.ylabel('minutes')"
   ]
  },
  {
   "cell_type": "code",
   "execution_count": 7,
   "metadata": {
    "colab": {
     "base_uri": "https://localhost:8080/",
     "height": 523
    },
    "executionInfo": {
     "elapsed": 446,
     "status": "ok",
     "timestamp": 1737108150786,
     "user": {
      "displayName": "RAM PRASAD CHAUDHARY",
      "userId": "11879361387894913678"
     },
     "user_tz": -330
    },
    "id": "Oum1Zj6Cm-kJ",
    "outputId": "fa1a197a-111e-48ef-e46c-8ba5e151c136"
   },
   "outputs": [
    {
     "data": {
      "text/plain": [
       "0      24\n",
       "1      42\n",
       "2      60\n",
       "3      78\n",
       "4      78\n",
       "5      96\n",
       "6     114\n",
       "7     114\n",
       "8     132\n",
       "9     150\n",
       "10    168\n",
       "11    168\n",
       "12    186\n",
       "13    186\n",
       "Name: Units, dtype: int64"
      ]
     },
     "execution_count": 7,
     "metadata": {},
     "output_type": "execute_result"
    }
   ],
   "source": [
    "minutes_model0=data['Minutes'].mean()\n",
    "minutes_model1=10+12*data['Units']\n",
    "minutes_model2=6+18*data['Units']\n",
    "\n",
    "minutes_model0\n",
    "minutes_model1\n",
    "minutes_model2"
   ]
  },
  {
   "cell_type": "code",
   "execution_count": 8,
   "metadata": {
    "colab": {
     "base_uri": "https://localhost:8080/",
     "height": 488
    },
    "executionInfo": {
     "elapsed": 451,
     "status": "ok",
     "timestamp": 1737108157851,
     "user": {
      "displayName": "RAM PRASAD CHAUDHARY",
      "userId": "11879361387894913678"
     },
     "user_tz": -330
    },
    "id": "aC-YqYPspC5i",
    "outputId": "be01bc6f-e2b4-40fe-85f1-02125e20abee"
   },
   "outputs": [
    {
     "data": {
      "text/html": [
       "<div>\n",
       "<style scoped>\n",
       "    .dataframe tbody tr th:only-of-type {\n",
       "        vertical-align: middle;\n",
       "    }\n",
       "\n",
       "    .dataframe tbody tr th {\n",
       "        vertical-align: top;\n",
       "    }\n",
       "\n",
       "    .dataframe thead th {\n",
       "        text-align: right;\n",
       "    }\n",
       "</style>\n",
       "<table border=\"1\" class=\"dataframe\">\n",
       "  <thead>\n",
       "    <tr style=\"text-align: right;\">\n",
       "      <th></th>\n",
       "      <th>Units</th>\n",
       "      <th>Minutes</th>\n",
       "      <th>Minutes_model0</th>\n",
       "      <th>Minutes_model1</th>\n",
       "      <th>Minutes_model2</th>\n",
       "    </tr>\n",
       "  </thead>\n",
       "  <tbody>\n",
       "    <tr>\n",
       "      <th>0</th>\n",
       "      <td>1</td>\n",
       "      <td>23</td>\n",
       "      <td>97.214286</td>\n",
       "      <td>22</td>\n",
       "      <td>24</td>\n",
       "    </tr>\n",
       "    <tr>\n",
       "      <th>1</th>\n",
       "      <td>2</td>\n",
       "      <td>29</td>\n",
       "      <td>97.214286</td>\n",
       "      <td>34</td>\n",
       "      <td>42</td>\n",
       "    </tr>\n",
       "    <tr>\n",
       "      <th>2</th>\n",
       "      <td>3</td>\n",
       "      <td>49</td>\n",
       "      <td>97.214286</td>\n",
       "      <td>46</td>\n",
       "      <td>60</td>\n",
       "    </tr>\n",
       "    <tr>\n",
       "      <th>3</th>\n",
       "      <td>4</td>\n",
       "      <td>64</td>\n",
       "      <td>97.214286</td>\n",
       "      <td>58</td>\n",
       "      <td>78</td>\n",
       "    </tr>\n",
       "    <tr>\n",
       "      <th>4</th>\n",
       "      <td>4</td>\n",
       "      <td>74</td>\n",
       "      <td>97.214286</td>\n",
       "      <td>58</td>\n",
       "      <td>78</td>\n",
       "    </tr>\n",
       "    <tr>\n",
       "      <th>5</th>\n",
       "      <td>5</td>\n",
       "      <td>87</td>\n",
       "      <td>97.214286</td>\n",
       "      <td>70</td>\n",
       "      <td>96</td>\n",
       "    </tr>\n",
       "    <tr>\n",
       "      <th>6</th>\n",
       "      <td>6</td>\n",
       "      <td>96</td>\n",
       "      <td>97.214286</td>\n",
       "      <td>82</td>\n",
       "      <td>114</td>\n",
       "    </tr>\n",
       "    <tr>\n",
       "      <th>7</th>\n",
       "      <td>6</td>\n",
       "      <td>97</td>\n",
       "      <td>97.214286</td>\n",
       "      <td>82</td>\n",
       "      <td>114</td>\n",
       "    </tr>\n",
       "    <tr>\n",
       "      <th>8</th>\n",
       "      <td>7</td>\n",
       "      <td>109</td>\n",
       "      <td>97.214286</td>\n",
       "      <td>94</td>\n",
       "      <td>132</td>\n",
       "    </tr>\n",
       "    <tr>\n",
       "      <th>9</th>\n",
       "      <td>8</td>\n",
       "      <td>119</td>\n",
       "      <td>97.214286</td>\n",
       "      <td>106</td>\n",
       "      <td>150</td>\n",
       "    </tr>\n",
       "    <tr>\n",
       "      <th>10</th>\n",
       "      <td>9</td>\n",
       "      <td>149</td>\n",
       "      <td>97.214286</td>\n",
       "      <td>118</td>\n",
       "      <td>168</td>\n",
       "    </tr>\n",
       "    <tr>\n",
       "      <th>11</th>\n",
       "      <td>9</td>\n",
       "      <td>145</td>\n",
       "      <td>97.214286</td>\n",
       "      <td>118</td>\n",
       "      <td>168</td>\n",
       "    </tr>\n",
       "    <tr>\n",
       "      <th>12</th>\n",
       "      <td>10</td>\n",
       "      <td>154</td>\n",
       "      <td>97.214286</td>\n",
       "      <td>130</td>\n",
       "      <td>186</td>\n",
       "    </tr>\n",
       "    <tr>\n",
       "      <th>13</th>\n",
       "      <td>10</td>\n",
       "      <td>166</td>\n",
       "      <td>97.214286</td>\n",
       "      <td>130</td>\n",
       "      <td>186</td>\n",
       "    </tr>\n",
       "  </tbody>\n",
       "</table>\n",
       "</div>"
      ],
      "text/plain": [
       "    Units  Minutes  Minutes_model0  Minutes_model1  Minutes_model2\n",
       "0       1       23       97.214286              22              24\n",
       "1       2       29       97.214286              34              42\n",
       "2       3       49       97.214286              46              60\n",
       "3       4       64       97.214286              58              78\n",
       "4       4       74       97.214286              58              78\n",
       "5       5       87       97.214286              70              96\n",
       "6       6       96       97.214286              82             114\n",
       "7       6       97       97.214286              82             114\n",
       "8       7      109       97.214286              94             132\n",
       "9       8      119       97.214286             106             150\n",
       "10      9      149       97.214286             118             168\n",
       "11      9      145       97.214286             118             168\n",
       "12     10      154       97.214286             130             186\n",
       "13     10      166       97.214286             130             186"
      ]
     },
     "execution_count": 8,
     "metadata": {},
     "output_type": "execute_result"
    }
   ],
   "source": [
    "data['Minutes_model0']=minutes_model0\n",
    "data['Minutes_model1']=minutes_model1\n",
    "data['Minutes_model2']=minutes_model2\n",
    "data\n",
    "#"
   ]
  },
  {
   "cell_type": "code",
   "execution_count": 9,
   "metadata": {
    "colab": {
     "base_uri": "https://localhost:8080/",
     "height": 489
    },
    "executionInfo": {
     "elapsed": 717,
     "status": "ok",
     "timestamp": 1737108165366,
     "user": {
      "displayName": "RAM PRASAD CHAUDHARY",
      "userId": "11879361387894913678"
     },
     "user_tz": -330
    },
    "id": "vnZI-ugDreuY",
    "outputId": "b23ac83c-b9ba-43b6-a3de-42b7e455a1e3"
   },
   "outputs": [
    {
     "data": {
      "text/plain": [
       "<matplotlib.legend.Legend at 0x28437daaa50>"
      ]
     },
     "execution_count": 9,
     "metadata": {},
     "output_type": "execute_result"
    },
    {
     "data": {
      "image/png": "[encoded data removed]",
      "text/plain": [
       "<Figure size 640x480 with 1 Axes>"
      ]
     },
     "metadata": {},
     "output_type": "display_data"
    }
   ],
   "source": [
    "fig,ax = plt.subplots()\n",
    "ax.scatter(x='Units',y='Minutes',data=data,label='actual repair time')\n",
    "ax.plot(data['Units'],data['Minutes_model0'],color='red',label='model0')\n",
    "ax.plot(data['Units'],data['Minutes_model1'],color='green',label='model1')\n",
    "ax.plot(data['Units'],data['Minutes_model2'],color='black',label='model2')\n",
    "ax.set_ylabel('Minutes')\n",
    "ax.set_xlabel('Units')\n",
    "ax.set_title('Speculated Models')\n",
    "ax.legend()"
   ]
  },
  {
   "cell_type": "code",
   "execution_count": 10,
   "metadata": {
    "colab": {
     "base_uri": "https://localhost:8080/"
    },
    "executionInfo": {
     "elapsed": 441,
     "status": "ok",
     "timestamp": 1737108455673,
     "user": {
      "displayName": "RAM PRASAD CHAUDHARY",
      "userId": "11879361387894913678"
     },
     "user_tz": -330
    },
    "id": "KnaS11autKw3",
    "outputId": "2a2ad290-03ed-4aed-aead-63d16a2c18a7"
   },
   "outputs": [
    {
     "name": "stdout",
     "output_type": "stream",
     "text": [
      "Intercept: 4.161654135338296\n",
      "Coefficients: [15.50877193]\n"
     ]
    }
   ],
   "source": [
    "from re import X\n",
    "x=data['Units']\n",
    "y=data['Minutes']\n",
    "from sklearn.linear_model import LinearRegression\n",
    "model = LinearRegression()\n",
    "model.fit(x.values.reshape(-1,1),y)\n",
    "print(\"Intercept:\",model.intercept_)\n",
    "print(\"Coefficients:\",model.coef_)"
   ]
  },
  {
   "cell_type": "code",
   "execution_count": 11,
   "metadata": {
    "colab": {
     "base_uri": "https://localhost:8080/",
     "height": 488
    },
    "executionInfo": {
     "elapsed": 432,
     "status": "ok",
     "timestamp": 1737108452739,
     "user": {
      "displayName": "RAM PRASAD CHAUDHARY",
      "userId": "11879361387894913678"
     },
     "user_tz": -330
    },
    "id": "b0zFFv1-t0bJ",
    "outputId": "1781f1be-8a16-4c79-e465-f88e7b2fe2e3"
   },
   "outputs": [
    {
     "data": {
      "text/html": [
       "<div>\n",
       "<style scoped>\n",
       "    .dataframe tbody tr th:only-of-type {\n",
       "        vertical-align: middle;\n",
       "    }\n",
       "\n",
       "    .dataframe tbody tr th {\n",
       "        vertical-align: top;\n",
       "    }\n",
       "\n",
       "    .dataframe thead th {\n",
       "        text-align: right;\n",
       "    }\n",
       "</style>\n",
       "<table border=\"1\" class=\"dataframe\">\n",
       "  <thead>\n",
       "    <tr style=\"text-align: right;\">\n",
       "      <th></th>\n",
       "      <th>Units</th>\n",
       "      <th>Minutes</th>\n",
       "      <th>Minutes_model0</th>\n",
       "      <th>Minutes_model1</th>\n",
       "      <th>Minutes_model2</th>\n",
       "      <th>Minutes_Model3</th>\n",
       "    </tr>\n",
       "  </thead>\n",
       "  <tbody>\n",
       "    <tr>\n",
       "      <th>0</th>\n",
       "      <td>1</td>\n",
       "      <td>23</td>\n",
       "      <td>97.214286</td>\n",
       "      <td>22</td>\n",
       "      <td>24</td>\n",
       "      <td>19.16</td>\n",
       "    </tr>\n",
       "    <tr>\n",
       "      <th>1</th>\n",
       "      <td>2</td>\n",
       "      <td>29</td>\n",
       "      <td>97.214286</td>\n",
       "      <td>34</td>\n",
       "      <td>42</td>\n",
       "      <td>34.16</td>\n",
       "    </tr>\n",
       "    <tr>\n",
       "      <th>2</th>\n",
       "      <td>3</td>\n",
       "      <td>49</td>\n",
       "      <td>97.214286</td>\n",
       "      <td>46</td>\n",
       "      <td>60</td>\n",
       "      <td>49.16</td>\n",
       "    </tr>\n",
       "    <tr>\n",
       "      <th>3</th>\n",
       "      <td>4</td>\n",
       "      <td>64</td>\n",
       "      <td>97.214286</td>\n",
       "      <td>58</td>\n",
       "      <td>78</td>\n",
       "      <td>64.16</td>\n",
       "    </tr>\n",
       "    <tr>\n",
       "      <th>4</th>\n",
       "      <td>4</td>\n",
       "      <td>74</td>\n",
       "      <td>97.214286</td>\n",
       "      <td>58</td>\n",
       "      <td>78</td>\n",
       "      <td>64.16</td>\n",
       "    </tr>\n",
       "    <tr>\n",
       "      <th>5</th>\n",
       "      <td>5</td>\n",
       "      <td>87</td>\n",
       "      <td>97.214286</td>\n",
       "      <td>70</td>\n",
       "      <td>96</td>\n",
       "      <td>79.16</td>\n",
       "    </tr>\n",
       "    <tr>\n",
       "      <th>6</th>\n",
       "      <td>6</td>\n",
       "      <td>96</td>\n",
       "      <td>97.214286</td>\n",
       "      <td>82</td>\n",
       "      <td>114</td>\n",
       "      <td>94.16</td>\n",
       "    </tr>\n",
       "    <tr>\n",
       "      <th>7</th>\n",
       "      <td>6</td>\n",
       "      <td>97</td>\n",
       "      <td>97.214286</td>\n",
       "      <td>82</td>\n",
       "      <td>114</td>\n",
       "      <td>94.16</td>\n",
       "    </tr>\n",
       "    <tr>\n",
       "      <th>8</th>\n",
       "      <td>7</td>\n",
       "      <td>109</td>\n",
       "      <td>97.214286</td>\n",
       "      <td>94</td>\n",
       "      <td>132</td>\n",
       "      <td>109.16</td>\n",
       "    </tr>\n",
       "    <tr>\n",
       "      <th>9</th>\n",
       "      <td>8</td>\n",
       "      <td>119</td>\n",
       "      <td>97.214286</td>\n",
       "      <td>106</td>\n",
       "      <td>150</td>\n",
       "      <td>124.16</td>\n",
       "    </tr>\n",
       "    <tr>\n",
       "      <th>10</th>\n",
       "      <td>9</td>\n",
       "      <td>149</td>\n",
       "      <td>97.214286</td>\n",
       "      <td>118</td>\n",
       "      <td>168</td>\n",
       "      <td>139.16</td>\n",
       "    </tr>\n",
       "    <tr>\n",
       "      <th>11</th>\n",
       "      <td>9</td>\n",
       "      <td>145</td>\n",
       "      <td>97.214286</td>\n",
       "      <td>118</td>\n",
       "      <td>168</td>\n",
       "      <td>139.16</td>\n",
       "    </tr>\n",
       "    <tr>\n",
       "      <th>12</th>\n",
       "      <td>10</td>\n",
       "      <td>154</td>\n",
       "      <td>97.214286</td>\n",
       "      <td>130</td>\n",
       "      <td>186</td>\n",
       "      <td>154.16</td>\n",
       "    </tr>\n",
       "    <tr>\n",
       "      <th>13</th>\n",
       "      <td>10</td>\n",
       "      <td>166</td>\n",
       "      <td>97.214286</td>\n",
       "      <td>130</td>\n",
       "      <td>186</td>\n",
       "      <td>154.16</td>\n",
       "    </tr>\n",
       "  </tbody>\n",
       "</table>\n",
       "</div>"
      ],
      "text/plain": [
       "    Units  Minutes  Minutes_model0  Minutes_model1  Minutes_model2  \\\n",
       "0       1       23       97.214286              22              24   \n",
       "1       2       29       97.214286              34              42   \n",
       "2       3       49       97.214286              46              60   \n",
       "3       4       64       97.214286              58              78   \n",
       "4       4       74       97.214286              58              78   \n",
       "5       5       87       97.214286              70              96   \n",
       "6       6       96       97.214286              82             114   \n",
       "7       6       97       97.214286              82             114   \n",
       "8       7      109       97.214286              94             132   \n",
       "9       8      119       97.214286             106             150   \n",
       "10      9      149       97.214286             118             168   \n",
       "11      9      145       97.214286             118             168   \n",
       "12     10      154       97.214286             130             186   \n",
       "13     10      166       97.214286             130             186   \n",
       "\n",
       "    Minutes_Model3  \n",
       "0            19.16  \n",
       "1            34.16  \n",
       "2            49.16  \n",
       "3            64.16  \n",
       "4            64.16  \n",
       "5            79.16  \n",
       "6            94.16  \n",
       "7            94.16  \n",
       "8           109.16  \n",
       "9           124.16  \n",
       "10          139.16  \n",
       "11          139.16  \n",
       "12          154.16  \n",
       "13          154.16  "
      ]
     },
     "execution_count": 11,
     "metadata": {},
     "output_type": "execute_result"
    }
   ],
   "source": [
    "minutes_model3=4.16+15*data['Units']\n",
    "data['Minutes_Model3']=minutes_model3\n",
    "data"
   ]
  },
  {
   "cell_type": "code",
   "execution_count": 12,
   "metadata": {
    "colab": {
     "base_uri": "https://localhost:8080/",
     "height": 489
    },
    "executionInfo": {
     "elapsed": 771,
     "status": "ok",
     "timestamp": 1737108493190,
     "user": {
      "displayName": "RAM PRASAD CHAUDHARY",
      "userId": "11879361387894913678"
     },
     "user_tz": -330
    },
    "id": "5-TLSrYcuUOl",
    "outputId": "a8e56f17-cbc1-4153-fb02-3706ab42b041"
   },
   "outputs": [
    {
     "data": {
      "text/plain": [
       "<matplotlib.legend.Legend at 0x2845248ce10>"
      ]
     },
     "execution_count": 12,
     "metadata": {},
     "output_type": "execute_result"
    },
    {
     "data": {
      "image/png": "[encoded data removed]",
      "text/plain": [
       "<Figure size 640x480 with 1 Axes>"
      ]
     },
     "metadata": {},
     "output_type": "display_data"
    }
   ],
   "source": [
    "\n",
    "fig,ax = plt.subplots()\n",
    "ax.scatter(x='Units',y='Minutes',data=data,label='actual repair time')\n",
    "ax.plot(data['Units'],data['Minutes_model0'],color='red',label='model0')\n",
    "ax.plot(data['Units'],data['Minutes_model1'],color='green',label='model1')\n",
    "ax.plot(data['Units'],data['Minutes_model2'],color='black',label='model2')\n",
    "ax.plot(data['Units'],data['Minutes_Model3'],color='yellow',label='model3')\n",
    "ax.set_ylabel('Minutes')\n",
    "ax.set_xlabel('Units')\n",
    "ax.set_title('Speculated Models')\n",
    "ax.legend()"
   ]
  },
  {
   "cell_type": "code",
   "execution_count": 13,
   "metadata": {
    "colab": {
     "base_uri": "https://localhost:8080/"
    },
    "executionInfo": {
     "elapsed": 438,
     "status": "ok",
     "timestamp": 1737108866002,
     "user": {
      "displayName": "RAM PRASAD CHAUDHARY",
      "userId": "11879361387894913678"
     },
     "user_tz": -330
    },
    "id": "KE5A4kz8vZN2",
    "outputId": "b91614a0-1887-415b-b708-317653292d5c"
   },
   "outputs": [
    {
     "name": "stdout",
     "output_type": "stream",
     "text": [
      "MSE for model 0: 1983.4540816326532\n",
      "MSE for model 1: 356.64285714285717\n",
      "MSE for model 2: 357.2142857142857\n",
      "MSE for model 3: 36.35417142857145\n"
     ]
    }
   ],
   "source": [
    "# prompt: measure the accurecy using regression MSE\n",
    "\n",
    "from sklearn.metrics import mean_squared_error\n",
    "\n",
    "# Calculate MSE for each model\n",
    "mse_model0 = mean_squared_error(data['Minutes'], data['Minutes_model0'])\n",
    "mse_model1 = mean_squared_error(data['Minutes'], data['Minutes_model1'])\n",
    "mse_model2 = mean_squared_error(data['Minutes'], data['Minutes_model2'])\n",
    "mse_model3 = mean_squared_error(data['Minutes'], data['Minutes_Model3'])\n",
    "\n",
    "print(f\"MSE for model 0: {mse_model0}\")\n",
    "print(f\"MSE for model 1: {mse_model1}\")\n",
    "print(f\"MSE for model 2: {mse_model2}\")\n",
    "print(f\"MSE for model 3: {mse_model3}\")"
   ]
  },
  {
   "cell_type": "code",
   "execution_count": 14,
   "metadata": {
    "colab": {
     "base_uri": "https://localhost:8080/"
    },
    "executionInfo": {
     "elapsed": 417,
     "status": "ok",
     "timestamp": 1737108802218,
     "user": {
      "displayName": "RAM PRASAD CHAUDHARY",
      "userId": "11879361387894913678"
     },
     "user_tz": -330
    },
    "id": "tCRkGQRgwAr8",
    "outputId": "2859c379-5562-440e-96e3-f3d6bc2900f7"
   },
   "outputs": [
    {
     "name": "stderr",
     "output_type": "stream",
     "text": [
      "c:\\Users\\91932\\AppData\\Local\\Programs\\Python\\Python313\\Lib\\site-packages\\sklearn\\utils\\validation.py:2732: UserWarning: X has feature names, but LinearRegression was fitted without feature names\n",
      "  warnings.warn(\n"
     ]
    },
    {
     "data": {
      "text/plain": [
       "0.9874371980620736"
      ]
     },
     "execution_count": 14,
     "metadata": {},
     "output_type": "execute_result"
    }
   ],
   "source": [
    "Rsq=model.score(data[['Units']] ,y)\n",
    "Rsq"
   ]
  }
 ],
 "metadata": {
  "colab": {
   "authorship_tag": "ABX9TyMKdC0uAYJuDFcLkA7nJyBS",
   "provenance": []
  },
  "kernelspec": {
   "display_name": "Python 3",
   "name": "python3"
  },
  "language_info": {
   "codemirror_mode": {
    "name": "ipython",
    "version": 3
   },
   "file_extension": ".py",
   "mimetype": "text/x-python",
   "name": "python",
   "nbconvert_exporter": "python",
   "pygments_lexer": "ipython3",
   "version": "3.13.0"
  }
 },
 "nbformat": 4,
 "nbformat_minor": 0
}
